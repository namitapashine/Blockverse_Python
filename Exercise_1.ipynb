{
  "nbformat": 4,
  "nbformat_minor": 0,
  "metadata": {
    "colab": {
      "provenance": [],
      "authorship_tag": "ABX9TyMVDfntIVw8vNozsQTo6xlD",
      "include_colab_link": true
    },
    "kernelspec": {
      "name": "python3",
      "display_name": "Python 3"
    },
    "language_info": {
      "name": "python"
    }
  },
  "cells": [
    {
      "cell_type": "markdown",
      "metadata": {
        "id": "view-in-github",
        "colab_type": "text"
      },
      "source": [
        "<a href=\"https://colab.research.google.com/github/namitapashine/Blockverse_Python/blob/main/Exercise_1.ipynb\" target=\"_parent\"><img src=\"https://colab.research.google.com/assets/colab-badge.svg\" alt=\"Open In Colab\"/></a>"
      ]
    },
    {
      "cell_type": "code",
      "execution_count": null,
      "metadata": {
        "id": "OJrnEClQW4j6"
      },
      "outputs": [],
      "source": []
    },
    {
      "cell_type": "code",
      "source": [
        "print(\"Welcome to first Python Class\")"
      ],
      "metadata": {
        "colab": {
          "base_uri": "https://localhost:8080/"
        },
        "id": "2wKBAI2IaI8J",
        "outputId": "1c3aee87-b18b-40bc-8c91-6928cab36626"
      },
      "execution_count": null,
      "outputs": [
        {
          "output_type": "stream",
          "name": "stdout",
          "text": [
            "Welcome to first Python Class\n"
          ]
        }
      ]
    },
    {
      "cell_type": "markdown",
      "source": [
        "program1: Converting from celcius to Fahrenheit"
      ],
      "metadata": {
        "id": "xXgZCUw3fZ-a"
      }
    },
    {
      "cell_type": "code",
      "source": [
        "#celcius to Fahrenheit\n",
        "#F = (C * 9/5) + 32\n",
        "Temperature = int(input())\n",
        "Temperature = (Temperature * 9/5) + 32\n",
        "print(Temperature)\n"
      ],
      "metadata": {
        "colab": {
          "base_uri": "https://localhost:8080/"
        },
        "id": "DiR16VfSga1_",
        "outputId": "46dd97e9-fa4d-4fcb-97b8-9d00bda3f8c9"
      },
      "execution_count": null,
      "outputs": [
        {
          "output_type": "stream",
          "name": "stdout",
          "text": [
            "25\n",
            "77.0\n"
          ]
        }
      ]
    },
    {
      "cell_type": "markdown",
      "source": [
        "Program 2 : Finding the leap year"
      ],
      "metadata": {
        "id": "u8nEeRzCfSdm"
      }
    },
    {
      "cell_type": "code",
      "source": [
        "def leap_year(year):\n",
        "    if (year % 4 == 0 and year % 100 != 0) or (year % 400 == 0):\n",
        "        return True\n",
        "    else:\n",
        "        return False\n",
        "\n",
        "year = int(input(\"Enter a year: \"))\n",
        "if leap_year(year):\n",
        "    print(f\"{year} is a leap year.\")\n",
        "else:\n",
        "    print(f\"{year} is not a leap year.\")\n",
        "\n"
      ],
      "metadata": {
        "colab": {
          "base_uri": "https://localhost:8080/"
        },
        "id": "7CF9Ry6ufxIT",
        "outputId": "cc2e6ff8-4d22-438d-f30f-1f808b3e8c95"
      },
      "execution_count": null,
      "outputs": [
        {
          "output_type": "stream",
          "name": "stdout",
          "text": [
            "Enter a year: 2024\n",
            "2024 is a leap year.\n"
          ]
        }
      ]
    },
    {
      "cell_type": "markdown",
      "source": [
        "Program3: Changing height units form cm to inches"
      ],
      "metadata": {
        "id": "S5NT3J-8hzzb"
      }
    },
    {
      "cell_type": "code",
      "source": [
        "# prompt: cm to inches\n",
        "\n",
        "height_cm = float(input(\"Enter height in centimeters: \"))\n",
        "height_inches = height_cm / 2.54\n",
        "print(f\"Height in inches: {height_inches}\")\n"
      ],
      "metadata": {
        "id": "qDdBrULwh-ja"
      },
      "execution_count": null,
      "outputs": []
    }
  ]
}
{
  "nbformat": 4,
  "nbformat_minor": 0,
  "metadata": {
    "colab": {
      "provenance": [],
      "include_colab_link": true
    },
    "kernelspec": {
      "name": "python3",
      "display_name": "Python 3"
    },
    "language_info": {
      "name": "python"
    }
  },
  "cells": [
    {
      "cell_type": "markdown",
      "metadata": {
        "id": "view-in-github",
        "colab_type": "text"
      },
      "source": [
        "<a href=\"https://colab.research.google.com/github/namitapashine/Python_Exercise/blob/main/class3_assignment_loop.ipynb\" target=\"_parent\"><img src=\"https://colab.research.google.com/assets/colab-badge.svg\" alt=\"Open In Colab\"/></a>"
      ]
    },
    {
      "cell_type": "code",
      "execution_count": 1,
      "metadata": {
        "colab": {
          "base_uri": "https://localhost:8080/"
        },
        "id": "_F2ScebzlkZo",
        "outputId": "f1abe918-755e-4292-dbd6-25f6929df4b1"
      },
      "outputs": [
        {
          "output_type": "stream",
          "name": "stdout",
          "text": [
            "Please enter your starting range: 1\n",
            "Please enter your end range: 10\n",
            "Please enter the divider number: 2\n",
            "Below is the list of number divisible by number : 2\n",
            "2\n",
            "4\n",
            "6\n",
            "8\n",
            "10\n"
          ]
        }
      ],
      "source": [
        "#Progam to find out all numbers which are divisible by given numbr,from given range.\n",
        "\n",
        "\n",
        "#intialise the list to store all divisible number\n",
        "list_num = []\n",
        "\n",
        "#take the input from user\n",
        "start_range = int(input(\"Please enter your starting range: \"))\n",
        "end_range = int(input(\"Please enter your end range: \"))\n",
        "divisor = int(input(\"Please enter the divider number: \"))\n",
        "\n",
        "#check if divisor in non null value\n",
        "if divisor == 0:\n",
        "  print(\"Divisor cannot be zero\")\n",
        "  exit() #not getting exit from the program need to ask Kajal\n",
        "\n",
        "#iterate throug the loop\n",
        "for i in range(start_range,end_range+1):\n",
        "    if i % divisor == 0:\n",
        "       list_num =list_num + [i]\n",
        "\n",
        "#check if list is empty or have numbers and print\n",
        "if len(list_num) == 0:\n",
        "    print(\"No number found\")\n",
        "else :\n",
        "   print(\"Below is the list of number divisible by number :\",divisor)\n",
        "   for i in range(len(list_num)):\n",
        "      print(list_num[i])\n",
        "\n",
        "\n",
        "\n",
        "\n",
        "\n"
      ]
    }
  ]
}
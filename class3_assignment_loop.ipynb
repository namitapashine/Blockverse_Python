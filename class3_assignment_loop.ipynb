{
  "nbformat": 4,
  "nbformat_minor": 0,
  "metadata": {
    "colab": {
      "provenance": []
    },
    "kernelspec": {
      "name": "python3",
      "display_name": "Python 3"
    },
    "language_info": {
      "name": "python"
    }
  },
  "cells": [
    {
      "cell_type": "code",
      "execution_count": 2,
      "metadata": {
        "colab": {
          "base_uri": "https://localhost:8080/",
          "height": 280
        },
        "id": "_F2ScebzlkZo",
        "outputId": "e59adb11-d376-4de6-c7cd-89f2d22884e9"
      },
      "outputs": [
        {
          "output_type": "stream",
          "name": "stdout",
          "text": [
            "Please enter your starting range: 1\n",
            "Please enter your end range: 10\n",
            "Please enter the divider number: 0\n",
            "Divisor cannot be zero\n"
          ]
        },
        {
          "output_type": "error",
          "ename": "ZeroDivisionError",
          "evalue": "integer division or modulo by zero",
          "traceback": [
            "\u001b[0;31m---------------------------------------------------------------------------\u001b[0m",
            "\u001b[0;31mZeroDivisionError\u001b[0m                         Traceback (most recent call last)",
            "\u001b[0;32m<ipython-input-2-a85e2bb7afd8>\u001b[0m in \u001b[0;36m<cell line: 18>\u001b[0;34m()\u001b[0m\n\u001b[1;32m     17\u001b[0m \u001b[0;31m#iterate throug the loop\u001b[0m\u001b[0;34m\u001b[0m\u001b[0;34m\u001b[0m\u001b[0m\n\u001b[1;32m     18\u001b[0m \u001b[0;32mfor\u001b[0m \u001b[0mi\u001b[0m \u001b[0;32min\u001b[0m \u001b[0mrange\u001b[0m\u001b[0;34m(\u001b[0m\u001b[0mstart_range\u001b[0m\u001b[0;34m,\u001b[0m\u001b[0mend_range\u001b[0m\u001b[0;34m+\u001b[0m\u001b[0;36m1\u001b[0m\u001b[0;34m)\u001b[0m\u001b[0;34m:\u001b[0m\u001b[0;34m\u001b[0m\u001b[0;34m\u001b[0m\u001b[0m\n\u001b[0;32m---> 19\u001b[0;31m     \u001b[0;32mif\u001b[0m \u001b[0mi\u001b[0m \u001b[0;34m%\u001b[0m \u001b[0mdivisor\u001b[0m \u001b[0;34m==\u001b[0m \u001b[0;36m0\u001b[0m\u001b[0;34m:\u001b[0m\u001b[0;34m\u001b[0m\u001b[0;34m\u001b[0m\u001b[0m\n\u001b[0m\u001b[1;32m     20\u001b[0m        \u001b[0mlist_num\u001b[0m \u001b[0;34m=\u001b[0m\u001b[0mlist_num\u001b[0m \u001b[0;34m+\u001b[0m \u001b[0;34m[\u001b[0m\u001b[0mi\u001b[0m\u001b[0;34m]\u001b[0m\u001b[0;34m\u001b[0m\u001b[0;34m\u001b[0m\u001b[0m\n\u001b[1;32m     21\u001b[0m \u001b[0;34m\u001b[0m\u001b[0m\n",
            "\u001b[0;31mZeroDivisionError\u001b[0m: integer division or modulo by zero"
          ]
        }
      ],
      "source": [
        "#Progam to find out all numbers which are divisible by given numbr,from given range.\n",
        "\n",
        "\n",
        "#intialise the list to store all divisible number\n",
        "list_num = []\n",
        "\n",
        "#take the input from user\n",
        "start_range = int(input(\"Please enter your starting range: \"))\n",
        "end_range = int(input(\"Please enter your end range: \"))\n",
        "divisor = int(input(\"Please enter the divider number: \"))\n",
        "\n",
        "#check if divisor in non null value\n",
        "if divisor == 0:\n",
        "  print(\"Divisor cannot be zero\")\n",
        "  exit() #not getting exit from the program need to ask Kajal\n",
        "\n",
        "#iterate throug the loop\n",
        "for i in range(start_range,end_range+1):\n",
        "    if i % divisor == 0:\n",
        "       list_num =list_num + [i]\n",
        "\n",
        "#check if list is empty or have numbers and print\n",
        "if len(list_num) == 0:\n",
        "    print(\"No number found\")\n",
        "else :\n",
        "   print(\"Below is the list of number divisible by number :\",divisor)\n",
        "   for i in range(len(list_num)):\n",
        "      print(list_num[i])\n",
        "\n",
        "\n",
        "\n",
        "\n",
        "\n"
      ]
    }
  ]
}
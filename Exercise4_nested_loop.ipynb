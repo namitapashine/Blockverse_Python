{
  "nbformat": 4,
  "nbformat_minor": 0,
  "metadata": {
    "colab": {
      "provenance": [],
      "authorship_tag": "ABX9TyNGIrzGWgXZ9Mrlv44f6MQh",
      "include_colab_link": true
    },
    "kernelspec": {
      "name": "python3",
      "display_name": "Python 3"
    },
    "language_info": {
      "name": "python"
    }
  },
  "cells": [
    {
      "cell_type": "markdown",
      "metadata": {
        "id": "view-in-github",
        "colab_type": "text"
      },
      "source": [
        "<a href=\"https://colab.research.google.com/github/namitapashine/Python_Exercise/blob/main/exercise4_nested_loop.ipynb\" target=\"_parent\"><img src=\"https://colab.research.google.com/assets/colab-badge.svg\" alt=\"Open In Colab\"/></a>"
      ]
    },
    {
      "cell_type": "code",
      "execution_count": 21,
      "metadata": {
        "colab": {
          "base_uri": "https://localhost:8080/"
        },
        "id": "YypDx09WkIrQ",
        "outputId": "620bf65b-74a4-492f-e1d2-b38687448c6a"
      },
      "outputs": [
        {
          "output_type": "stream",
          "name": "stdout",
          "text": [
            "Please enter the name: kajal\n",
            "k\n",
            " a\n",
            "  j\n",
            "   a\n",
            "    l\n"
          ]
        }
      ],
      "source": [
        "#Program: Print the name diagonally\n",
        "# logic- 1 without using nested loop\n",
        "\n",
        "name = input(\"Please enter the name: \")\n",
        "length = len(name)\n",
        "for i in range(length):\n",
        "  txt = \" \" * i\n",
        "  print(txt + name[i])\n",
        "\n",
        "\n"
      ]
    },
    {
      "cell_type": "markdown",
      "source": [
        "#Program: Print the name diagonally\n",
        "# logic- 2 using nested loop"
      ],
      "metadata": {
        "id": "90RnBEyqwrJG"
      }
    },
    {
      "cell_type": "code",
      "source": [
        "#Program: Print the name diagonally\n",
        "\n",
        "#logic- 2 using nested loop\n",
        "\n",
        "name =input(\"Please enter the name: \")\n",
        "length = len(name)\n",
        "for i in range(length):\n",
        "      for j in range(i+1):\n",
        "         for k in range(j):\n",
        "            print(\"*\", end=\"\")\n",
        "      print(name[j])\n",
        "      print(\"\")\n"
      ],
      "metadata": {
        "colab": {
          "base_uri": "https://localhost:8080/"
        },
        "id": "zIb50uS7pW9Z",
        "outputId": "35ec5354-ef1f-4c21-b6eb-86f05c96619c"
      },
      "execution_count": 61,
      "outputs": [
        {
          "output_type": "stream",
          "name": "stdout",
          "text": [
            "Please enter the name: nam\n",
            "n\n",
            "\n",
            "*a\n",
            "\n",
            "***m\n",
            "\n"
          ]
        }
      ]
    }
  ]
}

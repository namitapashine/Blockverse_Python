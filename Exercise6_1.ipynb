{
  "nbformat": 4,
  "nbformat_minor": 0,
  "metadata": {
    "colab": {
      "provenance": [],
      "authorship_tag": "ABX9TyOWceiD5fdHzyDK8ZGcixyI",
      "include_colab_link": true
    },
    "kernelspec": {
      "name": "python3",
      "display_name": "Python 3"
    },
    "language_info": {
      "name": "python"
    }
  },
  "cells": [
    {
      "cell_type": "markdown",
      "metadata": {
        "id": "view-in-github",
        "colab_type": "text"
      },
      "source": [
        "<a href=\"https://colab.research.google.com/github/namitapashine/Python_Exercise/blob/main/Exercise6_1.ipynb\" target=\"_parent\"><img src=\"https://colab.research.google.com/assets/colab-badge.svg\" alt=\"Open In Colab\"/></a>"
      ]
    },
    {
      "cell_type": "markdown",
      "source": [],
      "metadata": {
        "id": "tyvQ65iI4uRg"
      }
    },
    {
      "cell_type": "markdown",
      "source": [
        "Creating a book log witout makin class objects"
      ],
      "metadata": {
        "id": "OLaY1xLm41eA"
      }
    },
    {
      "cell_type": "code",
      "execution_count": 26,
      "metadata": {
        "id": "g5ZeVbOUQ-36"
      },
      "outputs": [],
      "source": [
        "\n",
        "\n",
        "    # Method to add book details to a list\n",
        "    def add_bk_dtl(BK_list,Entire_book_list):\n",
        "        Entire_book_list.append(BK_list)\n",
        "\n",
        "    # Method to print the book details\n",
        "    def print_bk_dtl( Entire_book_list):\n",
        "        print(\"Book Details:\")\n",
        "        for book in Entire_book_list:\n",
        "            print(book)\n",
        "\n",
        "\n"
      ]
    },
    {
      "cell_type": "code",
      "source": [
        "# Create an empty list to store entire book details\n",
        "Entire_book_list = []\n",
        "\n",
        "#Intializing bk list\n",
        "BK_list = ['AAA', 'Nam', 'Bio', 'pub']\n",
        "\n",
        "# Append the book details to the list\n",
        "add_bk_dtl(BK_list,Entire_book_list)\n",
        "\n",
        "# Print the book details\n",
        "print_bk_dtl(Entire_book_list)"
      ],
      "metadata": {
        "colab": {
          "base_uri": "https://localhost:8080/"
        },
        "id": "9nd_anGWRBTE",
        "outputId": "f4a52f6b-4e02-4aea-a64e-102678982626"
      },
      "execution_count": 27,
      "outputs": [
        {
          "output_type": "stream",
          "name": "stdout",
          "text": [
            "Book Details:\n",
            "['AAA', 'Nam', 'Bio', 'pub']\n"
          ]
        }
      ]
    },
    {
      "cell_type": "code",
      "source": [
        "# Create a Book_Detail object and add book details to the list\n",
        "BK_list = ['FFF', 'Nam', 'Bio', 'pub']\n",
        "# Append the book details to the list\n",
        "add_bk_dtl(BK_list,Entire_book_list)\n",
        "\n",
        "# Print the book details\n",
        "print_bk_dtl(Entire_book_list)"
      ],
      "metadata": {
        "colab": {
          "base_uri": "https://localhost:8080/"
        },
        "id": "T8RKNEL_TDN0",
        "outputId": "6236f772-e711-4521-d406-f7e673d8e43e"
      },
      "execution_count": 28,
      "outputs": [
        {
          "output_type": "stream",
          "name": "stdout",
          "text": [
            "Book Details:\n",
            "['AAA', 'Nam', 'Bio', 'pub']\n",
            "['FFF', 'Nam', 'Bio', 'pub']\n"
          ]
        }
      ]
    },
    {
      "cell_type": "code",
      "source": [
        "# Create a Book_Detail object and add book details to the list\n",
        "BK_list = ['GGG', 'Nam', 'Bio', 'pub']\n",
        "# Append the book details to the list\n",
        "add_bk_dtl(BK_list,Entire_book_list)\n",
        "\n",
        "# Print the book details\n",
        "print_bk_dtl(Entire_book_list)"
      ],
      "metadata": {
        "colab": {
          "base_uri": "https://localhost:8080/"
        },
        "id": "4HP6d4YS4eEq",
        "outputId": "e77fe759-0b91-4640-e744-bb4c83d5641e"
      },
      "execution_count": 29,
      "outputs": [
        {
          "output_type": "stream",
          "name": "stdout",
          "text": [
            "Book Details:\n",
            "['AAA', 'Nam', 'Bio', 'pub']\n",
            "['FFF', 'Nam', 'Bio', 'pub']\n",
            "['GGG', 'Nam', 'Bio', 'pub']\n"
          ]
        }
      ]
    }
  ]
}
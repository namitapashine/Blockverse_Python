{
  "nbformat": 4,
  "nbformat_minor": 0,
  "metadata": {
    "colab": {
      "provenance": [],
      "authorship_tag": "ABX9TyMERAcNRJXJiKNMFqe38jJ0",
      "include_colab_link": true
    },
    "kernelspec": {
      "name": "python3",
      "display_name": "Python 3"
    },
    "language_info": {
      "name": "python"
    }
  },
  "cells": [
    {
      "cell_type": "markdown",
      "metadata": {
        "id": "view-in-github",
        "colab_type": "text"
      },
      "source": [
        "<a href=\"https://colab.research.google.com/github/namitapashine/Python_Exercise/blob/main/Exercise_class5.ipynb\" target=\"_parent\"><img src=\"https://colab.research.google.com/assets/colab-badge.svg\" alt=\"Open In Colab\"/></a>"
      ]
    },
    {
      "cell_type": "code",
      "execution_count": 8,
      "metadata": {
        "colab": {
          "base_uri": "https://localhost:8080/"
        },
        "id": "-4SFRS2k4610",
        "outputId": "27d25b41-7fcf-4a31-f2cd-dd3fc68e89a3"
      },
      "outputs": [
        {
          "output_type": "stream",
          "name": "stdout",
          "text": [
            "Do you want to add movie rating Yes/No yes\n",
            "Enter the movie name  xxxx\n",
            "Enter the actor rating  4\n",
            "Enter the music rating  3\n",
            "Enter the story rating  2\n",
            "[{'movie_name': 'xxxx', 'actor_rating': 4.0, 'music_rating': 3.0, 'story_rating': 2.0, 'avg_rating': 3.0}]\n",
            "Do you want to add movie rating Yes/No no\n",
            "Thank you see you Again\n"
          ]
        }
      ],
      "source": [
        "#define class for movie rating\n",
        "class NewMovieRating :\n",
        "  #define attribute the class\n",
        "  def __init__(self, movie_name, actor_rating, music_rating, story_rating, avg_rating):\n",
        "    self.movie_name = movie_name\n",
        "    self.actor_rating = actor_rating\n",
        "    self.music_rating = music_rating\n",
        "    self.story_rating = story_rating\n",
        "    self.avg_rating = avg_rating\n",
        "\n",
        "  #define dictionay to store attribute\n",
        "    self.movie = {\n",
        "        \"movie_name\": movie_name,\n",
        "      \"actor_rating\": actor_rating,\n",
        "      \"music_rating\": music_rating,\n",
        "      \"story_rating\": story_rating,\n",
        "        \"avg_rating\": avg_rating\n",
        "     }\n",
        "\n",
        "\n",
        "  #define method to print the movie attribute\n",
        "  def print_movie_attribute(self,list_of_movie_rating):\n",
        "        print(list_of_movie_rating)\n",
        "\n",
        "  #define method to append the new movie rating\n",
        "  def append_movie_rating(self,list_of_movie_rating):\n",
        "        list_of_movie_rating.append(self.movie)\n",
        "\n",
        "\n",
        "list_of_movie_rating = []\n",
        "\n",
        "while True :\n",
        "\n",
        "#Ask user to add movie rating\n",
        "  Choice = input(\"Do you want to add movie rating Yes/No \")\n",
        "  if Choice.lower() == \"yes\":\n",
        "    movie_name = input(\"Enter the movie name  \")\n",
        "    actor_rating = float(input(\"Enter the actor rating  \"))\n",
        "    music_rating = float(input(\"Enter the music rating  \"))\n",
        "    story_rating = float(input(\"Enter the story rating  \"))\n",
        "    avg_rating = (actor_rating + music_rating + story_rating)/3\n",
        "\n",
        "    movie_rating = NewMovieRating(movie_name, actor_rating, music_rating, story_rating, avg_rating)\n",
        "\n",
        "  #Append new movie rating\n",
        "    movie_rating.append_movie_rating(list_of_movie_rating)\n",
        "\n",
        "    movie_rating.print_movie_attribute(list_of_movie_rating)\n",
        "\n",
        "  # goto lable :\n",
        "  else:\n",
        "    print(\"Thank you see you Again\")\n",
        "    break\n",
        "\n",
        "\n",
        "  #DO python has laebl fuctionality\n",
        "\n",
        "\n"
      ]
    }
  ]
}
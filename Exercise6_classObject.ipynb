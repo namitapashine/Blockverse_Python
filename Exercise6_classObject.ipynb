{
  "nbformat": 4,
  "nbformat_minor": 0,
  "metadata": {
    "colab": {
      "provenance": [],
      "authorship_tag": "ABX9TyOAKVTZ3/ofkI8EDp73iFSS",
      "include_colab_link": true
    },
    "kernelspec": {
      "name": "python3",
      "display_name": "Python 3"
    },
    "language_info": {
      "name": "python"
    }
  },
  "cells": [
    {
      "cell_type": "markdown",
      "metadata": {
        "id": "view-in-github",
        "colab_type": "text"
      },
      "source": [
        "<a href=\"https://colab.research.google.com/github/namitapashine/Python_Exercise/blob/main/Exercise6_classObject.ipynb\" target=\"_parent\"><img src=\"https://colab.research.google.com/assets/colab-badge.svg\" alt=\"Open In Colab\"/></a>"
      ]
    },
    {
      "cell_type": "code",
      "execution_count": 14,
      "metadata": {
        "id": "g5ZeVbOUQ-36"
      },
      "outputs": [],
      "source": [
        "class Book_Detail:\n",
        "    def __init__(self, nw_bk_nam, nw_bk_aut, nw_bk_gnr, nw_bk_pblktn):\n",
        "        # Initialize attributes\n",
        "        self.bk_nam = nw_bk_nam\n",
        "        self.bk_aut = nw_bk_aut\n",
        "        self.bk_gnr = nw_bk_gnr\n",
        "        self.bk_pblktn = nw_bk_pblktn\n",
        "\n",
        "        # Dictionary to store book details\n",
        "        self.bk_dic = {\n",
        "            \"BookName\": self.bk_nam,\n",
        "            \"BookAuthor\": self.bk_aut,\n",
        "            \"BookGenere\": self.bk_gnr,\n",
        "            \"BookPublication\": self.bk_pblktn  # Correcting the key name to 'BookPublication'\n",
        "        }\n",
        "\n",
        "    # Method to add book details to a list\n",
        "    def add_bk_dtl(self, empty_list):\n",
        "        empty_list.append(self.bk_dic)\n",
        "\n",
        "    # Method to print the book details\n",
        "    def print_bk_dtl(self, book_list):\n",
        "        for book in book_list:\n",
        "            print(book)\n",
        "\n",
        "\n"
      ]
    },
    {
      "cell_type": "code",
      "source": [
        "\n",
        "# Create an empty list to store book details\n",
        "empty_list = []\n",
        "\n",
        "# Create a Book_Detail object and add book details to the list\n",
        "book = Book_Detail('AAA', 'Nam', 'Bio', 'pub')\n",
        "\n",
        "# Append the book details to the list\n",
        "book.add_bk_dtl(empty_list)\n",
        "\n",
        "# Print the book details\n",
        "book.print_bk_dtl(empty_list)"
      ],
      "metadata": {
        "colab": {
          "base_uri": "https://localhost:8080/"
        },
        "id": "9nd_anGWRBTE",
        "outputId": "08bb3c82-1272-4ea1-ffed-5db7f1987da2"
      },
      "execution_count": 15,
      "outputs": [
        {
          "output_type": "stream",
          "name": "stdout",
          "text": [
            "[{'BookName': 'AAA', 'BookAuthor': 'Nam', 'BookGenere': 'Bio', 'BookPublication': 'pub'}]\n"
          ]
        }
      ]
    },
    {
      "cell_type": "code",
      "source": [
        "# Create a Book_Detail object and add book details to the list\n",
        "book = Book_Detail('CCC', 'Nam', 'Bio', 'pub')\n",
        "\n",
        "# Append the book details to the list\n",
        "book.add_bk_dtl(empty_list)\n",
        "\n",
        "# Print the book details\n",
        "book.print_bk_dtl(empty_list)"
      ],
      "metadata": {
        "colab": {
          "base_uri": "https://localhost:8080/"
        },
        "id": "T8RKNEL_TDN0",
        "outputId": "4ea3f762-197f-499b-dd04-5635471c6c7a"
      },
      "execution_count": 16,
      "outputs": [
        {
          "output_type": "stream",
          "name": "stdout",
          "text": [
            "[{'BookName': 'AAA', 'BookAuthor': 'Nam', 'BookGenere': 'Bio', 'BookPublication': 'pub'}, {'BookName': 'CCC', 'BookAuthor': 'Nam', 'BookGenere': 'Bio', 'BookPublication': 'pub'}]\n"
          ]
        }
      ]
    }
  ]
}
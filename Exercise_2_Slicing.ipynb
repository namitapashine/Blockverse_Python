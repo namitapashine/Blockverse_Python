{
  "nbformat": 4,
  "nbformat_minor": 0,
  "metadata": {
    "colab": {
      "provenance": [],
      "authorship_tag": "ABX9TyPcrn5oPp5qJ1nURXzhnnxr",
      "include_colab_link": true
    },
    "kernelspec": {
      "name": "python3",
      "display_name": "Python 3"
    },
    "language_info": {
      "name": "python"
    }
  },
  "cells": [
    {
      "cell_type": "markdown",
      "metadata": {
        "id": "view-in-github",
        "colab_type": "text"
      },
      "source": [
        "<a href=\"https://colab.research.google.com/github/namitapashine/Python_Exercise/blob/main/Exercise_2_Slicing.ipynb\" target=\"_parent\"><img src=\"https://colab.research.google.com/assets/colab-badge.svg\" alt=\"Open In Colab\"/></a>"
      ]
    },
    {
      "cell_type": "code",
      "execution_count": null,
      "metadata": {
        "id": "PwLesWbVixDt"
      },
      "outputs": [],
      "source": []
    },
    {
      "cell_type": "markdown",
      "source": [
        "Program1---Slicing the list of Sandwitch Ingredient"
      ],
      "metadata": {
        "id": "ptP-Uh0BMfwW"
      }
    },
    {
      "cell_type": "code",
      "source": [
        "Sandwitch_Ingredient = ['chicken','cheese','lettuce','pepper','tomatoes','pesto']\n",
        "print(Sandwitch_Ingredient[0:3])\n",
        "print(Sandwitch_Ingredient[2:5])"
      ],
      "metadata": {
        "colab": {
          "base_uri": "https://localhost:8080/"
        },
        "id": "QABKqDz4QlHj",
        "outputId": "f0b2cd63-24fd-4644-a4a2-11a99336ac5b"
      },
      "execution_count": null,
      "outputs": [
        {
          "output_type": "stream",
          "name": "stdout",
          "text": [
            "['chicken', 'cheese', 'lettuce']\n",
            "['lettuce', 'pepper', 'tomatoes']\n"
          ]
        }
      ]
    },
    {
      "cell_type": "markdown",
      "source": [
        "Program2 --Slicing the list in alternate, to print subject only from the given list of subject and corresponding marks"
      ],
      "metadata": {
        "id": "vl-JDKdARIRN"
      }
    },
    {
      "cell_type": "code",
      "source": [
        "subject_list = ['Math',75,'English',80,'Science',90]\n",
        "print(subject_list[0::2])"
      ],
      "metadata": {
        "colab": {
          "base_uri": "https://localhost:8080/"
        },
        "id": "WZLDdP3dRPOJ",
        "outputId": "cb16b9f8-cd15-4f75-fe7f-986c87dd51ff"
      },
      "execution_count": null,
      "outputs": [
        {
          "output_type": "stream",
          "name": "stdout",
          "text": [
            "['Math', 'English', 'Science']\n"
          ]
        }
      ]
    }
  ]
}